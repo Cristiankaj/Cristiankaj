{
 "cells": [
  {
   "cell_type": "code",
   "execution_count": 21,
   "id": "5d0aec7b-4627-4787-b6d9-0a8be009d0b9",
   "metadata": {},
   "outputs": [
    {
     "name": "stdout",
     "output_type": "stream",
     "text": [
      "      ID                   Nombre completo Fecha de nacimiento  \\\n",
      "0  C0001            Leandra Anna Malo Alba          1984-12-08   \n",
      "1  C0002           Severo Granados Iglesia          1986-08-12   \n",
      "2  C0003                 Lucho Andreu Amat          1990-04-16   \n",
      "3  C0004  Matías Mauricio Castillo Barrera          1996-12-02   \n",
      "4  C0005        Mauricio Guijarro Castelló          1984-05-14   \n",
      "\n",
      "              Dirección Localidad y Código postal        Teléfono  \\\n",
      "0  7943 S. Fifth Street     Bergenfield, NJ 07621  (598) 451-5865   \n",
      "1        77 Lyme Street       Hermitage, TN 37076  (869) 771-1487   \n",
      "2    9448 Fairfield St.        Aberdeen, SD 57401  (246) 245-7306   \n",
      "3      8143 College St.      Trussville, AL 35173  (707) 933-2513   \n",
      "4     9893 W. Vale Ave.        Billings, MT 59101  (612) 325-0216   \n",
      "\n",
      "      Correo electrónico       Fecha de alta Grupo de clientes  \n",
      "0         uraeus@mac.com 2012-01-19 14:32:31                 A  \n",
      "1           bhima@me.com 2005-03-22 15:42:12                 E  \n",
      "2  psichel@sbcglobal.net 2007-09-15 03:01:11                 E  \n",
      "3    tbeck@optonline.net 2011-12-07 15:22:50                 E  \n",
      "4         eegsa@yahoo.ca 2008-06-28 06:58:06                 D  \n"
     ]
    },
    {
     "data": {
      "text/plain": [
       "(999, 9)"
      ]
     },
     "execution_count": 21,
     "metadata": {},
     "output_type": "execute_result"
    }
   ],
   "source": [
    "#importar librerias\n",
    "#!pip install pandas\n",
    "#!pip install numpy\n",
    "import pandas as pd\n",
    "import glob\n",
    "import numpy as np\n",
    "\n",
    "\n",
    "import pandas as pd\n",
    "\n",
    "# Cargar archivo descargado\n",
    "df = pd.read_excel(r'C:\\Users\\CRISTIAN\\Desktop\\Lista.xlsx')\n",
    "\n",
    "# Mostrar las primeras filas del DataFrame\n",
    "print(df.head())\n",
    "\n"
   ]
  },
  {
   "cell_type": "code",
   "execution_count": 23,
   "id": "90b488ca-d95a-4b43-9c62-43033053def2",
   "metadata": {},
   "outputs": [
    {
     "data": {
      "text/plain": [
       "(999, 9)"
      ]
     },
     "execution_count": 23,
     "metadata": {},
     "output_type": "execute_result"
    }
   ],
   "source": [
    "#ver filas y columnas \n",
    "df.shape"
   ]
  },
  {
   "cell_type": "code",
   "execution_count": 33,
   "id": "7885ebf3-788f-4ee5-9c39-204fe69b8512",
   "metadata": {},
   "outputs": [
    {
     "data": {
      "text/html": [
       "<div>\n",
       "<style scoped>\n",
       "    .dataframe tbody tr th:only-of-type {\n",
       "        vertical-align: middle;\n",
       "    }\n",
       "\n",
       "    .dataframe tbody tr th {\n",
       "        vertical-align: top;\n",
       "    }\n",
       "\n",
       "    .dataframe thead th {\n",
       "        text-align: right;\n",
       "    }\n",
       "</style>\n",
       "<table border=\"1\" class=\"dataframe\">\n",
       "  <thead>\n",
       "    <tr style=\"text-align: right;\">\n",
       "      <th></th>\n",
       "      <th>ID</th>\n",
       "      <th>nomb com</th>\n",
       "      <th>F NAC</th>\n",
       "      <th>Dirección</th>\n",
       "      <th>Localidad y Código postal</th>\n",
       "      <th>TEL</th>\n",
       "      <th>GMAIL</th>\n",
       "      <th>Fecha de alta</th>\n",
       "      <th>F CLIEN</th>\n",
       "    </tr>\n",
       "  </thead>\n",
       "  <tbody>\n",
       "    <tr>\n",
       "      <th>0</th>\n",
       "      <td>C0001</td>\n",
       "      <td>Leandra Anna Malo Alba</td>\n",
       "      <td>1984-12-08</td>\n",
       "      <td>7943 S. Fifth Street</td>\n",
       "      <td>Bergenfield, NJ 07621</td>\n",
       "      <td>(598) 451-5865</td>\n",
       "      <td>uraeus@mac.com</td>\n",
       "      <td>2012-01-19 14:32:31</td>\n",
       "      <td>A</td>\n",
       "    </tr>\n",
       "  </tbody>\n",
       "</table>\n",
       "</div>"
      ],
      "text/plain": [
       "      ID                nomb com      F NAC             Dirección  \\\n",
       "0  C0001  Leandra Anna Malo Alba 1984-12-08  7943 S. Fifth Street   \n",
       "\n",
       "  Localidad y Código postal             TEL           GMAIL  \\\n",
       "0     Bergenfield, NJ 07621  (598) 451-5865  uraeus@mac.com   \n",
       "\n",
       "        Fecha de alta F CLIEN  \n",
       "0 2012-01-19 14:32:31       A  "
      ]
     },
     "execution_count": 33,
     "metadata": {},
     "output_type": "execute_result"
    }
   ],
   "source": [
    "#CAMBIAR LAS COLUMNAS\n",
    "df=df.rename(columns={'ID': 'ID','Nombre completo':'nomb com','Fecha de nacimiento':'F NAC','Dirección Localidad y Código postal':'D L y C P','Teléfono':'TEL','Correo electrónico':'GMAIL','Fecha de alta':'Fecha de alta','Grupo de clientes':'F CLIEN'})\n",
    "df.head(1)"
   ]
  },
  {
   "cell_type": "code",
   "execution_count": 51,
   "id": "345493f2-c797-4424-aac2-dffcf21145c1",
   "metadata": {},
   "outputs": [
    {
     "data": {
      "text/html": [
       "<div>\n",
       "<style scoped>\n",
       "    .dataframe tbody tr th:only-of-type {\n",
       "        vertical-align: middle;\n",
       "    }\n",
       "\n",
       "    .dataframe tbody tr th {\n",
       "        vertical-align: top;\n",
       "    }\n",
       "\n",
       "    .dataframe thead th {\n",
       "        text-align: right;\n",
       "    }\n",
       "</style>\n",
       "<table border=\"1\" class=\"dataframe\">\n",
       "  <thead>\n",
       "    <tr style=\"text-align: right;\">\n",
       "      <th></th>\n",
       "      <th>ID</th>\n",
       "      <th>nomb com</th>\n",
       "      <th>F NAC</th>\n",
       "      <th>Dirección</th>\n",
       "      <th>Localidad y Código postal</th>\n",
       "      <th>TEL</th>\n",
       "      <th>GMAIL</th>\n",
       "      <th>Fecha de alta</th>\n",
       "      <th>F CLIEN</th>\n",
       "    </tr>\n",
       "  </thead>\n",
       "  <tbody>\n",
       "    <tr>\n",
       "      <th>0</th>\n",
       "      <td>C0001</td>\n",
       "      <td>Leandra Anna Malo Alba</td>\n",
       "      <td>1984-12-08</td>\n",
       "      <td>7943 S. Fifth Street</td>\n",
       "      <td>Bergenfield, NJ 07621</td>\n",
       "      <td>(598) 451-5865</td>\n",
       "      <td>uraeus@mac.com</td>\n",
       "      <td>2012-01-19 14:32:31</td>\n",
       "      <td>A</td>\n",
       "    </tr>\n",
       "  </tbody>\n",
       "</table>\n",
       "</div>"
      ],
      "text/plain": [
       "      ID                nomb com      F NAC             Dirección  \\\n",
       "0  C0001  Leandra Anna Malo Alba 1984-12-08  7943 S. Fifth Street   \n",
       "\n",
       "  Localidad y Código postal             TEL           GMAIL  \\\n",
       "0     Bergenfield, NJ 07621  (598) 451-5865  uraeus@mac.com   \n",
       "\n",
       "        Fecha de alta F CLIEN  \n",
       "0 2012-01-19 14:32:31       A  "
      ]
     },
     "execution_count": 51,
     "metadata": {},
     "output_type": "execute_result"
    }
   ],
   "source": [
    "#limpiar hora.\n",
    "df=df.replace(to_replace=r'.\\(.+\\)$', value='', regex=True)\n",
    "df.head(1)"
   ]
  },
  {
   "cell_type": "code",
   "execution_count": null,
   "id": "498241f6-e38f-499d-926d-6f2c95dbd48d",
   "metadata": {},
   "outputs": [],
   "source": []
  }
 ],
 "metadata": {
  "kernelspec": {
   "display_name": "Python 3 (ipykernel)",
   "language": "python",
   "name": "python3"
  },
  "language_info": {
   "codemirror_mode": {
    "name": "ipython",
    "version": 3
   },
   "file_extension": ".py",
   "mimetype": "text/x-python",
   "name": "python",
   "nbconvert_exporter": "python",
   "pygments_lexer": "ipython3",
   "version": "3.12.7"
  }
 },
 "nbformat": 4,
 "nbformat_minor": 5
}
